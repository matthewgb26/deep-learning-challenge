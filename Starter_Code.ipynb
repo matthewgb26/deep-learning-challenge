{
 "cells": [
  {
   "cell_type": "markdown",
   "metadata": {},
   "source": [
    "## Preprocessing"
   ]
  },
  {
   "cell_type": "markdown",
   "metadata": {},
   "source": [
    "Neural Network Model Analysis\n",
    "Purpose of the Analysis\n",
    "The purpose of this analysis is to evaluate the performance and outcomes of a neural network model developed for the task of predicting the success of charity organizations based on various features provided in the dataset. This analysis aims to provide insights into the effectiveness of the chosen model, summarize the results, and explore alternative models that could potentially offer improvements.\n",
    "\n",
    "Overall Results\n",
    "The neural network model was constructed using two hidden layers, with 80 and 30 units, respectively, and a final output layer with a sigmoid activation function. The He normal initializer and ReLU activation functions were employed to facilitate learning in the hidden layers.\n",
    "\n",
    "The model achieved a commendable accuracy on the test set, reaching Accuracy of 0.724781334400177 after 50 epochs of training. The binary crossentropy loss function was minimized during training, indicative of the model's ability to make meaningful predictions.\n",
    "\n",
    "Alternative Model Consideration\n",
    "While the neural network demonstrated good performance, considering alternatives is crucial for thorough analysis. An alternative model that could be explored is the Random Forest classifier. Random Forests are an ensemble learning method that combines multiple decision trees to improve accuracy and mitigate overfitting.\n",
    "\n",
    "Why Consider Random Forest?\n",
    "Interpretability: Random Forest models are inherently more interpretable than neural networks. In scenarios where understanding the decision-making process is crucial, a Random Forest can provide insights into feature importance and contribute to a more transparent model.\n",
    "\n",
    "Handling Non-linearity: Neural networks excel at capturing complex, non-linear relationships in data. However, if the data exhibits more straightforward patterns, a Random Forest might provide competitive performance without the complexity associated with neural networks.\n",
    "\n",
    "Robustness to Outliers: Random Forests are generally less sensitive to outliers compared to neural networks, making them more suitable for datasets with noisy or irregular patterns.\n",
    "\n",
    "Less Prone to Overfitting: Neural networks can be prone to overfitting, especially with a limited amount of data. Random Forests, with their ensemble nature, are less likely to overfit and can provide stable performance with smaller datasets.\n",
    "\n",
    "In summary, while the neural network model has shown success in this analysis, exploring a Random Forest model could offer additional insights, potentially improving interpretability and robustness, especially in scenarios where a clear understanding of feature importance is essential. The choice between these models ultimately depends on the specific characteristics of the dataset and the objectives of the analysis."
   ]
  },
  {
   "cell_type": "code",
   "execution_count": 1,
   "metadata": {},
   "outputs": [
    {
     "data": {
      "text/html": [
       "<div>\n",
       "<style scoped>\n",
       "    .dataframe tbody tr th:only-of-type {\n",
       "        vertical-align: middle;\n",
       "    }\n",
       "\n",
       "    .dataframe tbody tr th {\n",
       "        vertical-align: top;\n",
       "    }\n",
       "\n",
       "    .dataframe thead th {\n",
       "        text-align: right;\n",
       "    }\n",
       "</style>\n",
       "<table border=\"1\" class=\"dataframe\">\n",
       "  <thead>\n",
       "    <tr style=\"text-align: right;\">\n",
       "      <th></th>\n",
       "      <th>EIN</th>\n",
       "      <th>NAME</th>\n",
       "      <th>APPLICATION_TYPE</th>\n",
       "      <th>AFFILIATION</th>\n",
       "      <th>CLASSIFICATION</th>\n",
       "      <th>USE_CASE</th>\n",
       "      <th>ORGANIZATION</th>\n",
       "      <th>STATUS</th>\n",
       "      <th>INCOME_AMT</th>\n",
       "      <th>SPECIAL_CONSIDERATIONS</th>\n",
       "      <th>ASK_AMT</th>\n",
       "      <th>IS_SUCCESSFUL</th>\n",
       "    </tr>\n",
       "  </thead>\n",
       "  <tbody>\n",
       "    <tr>\n",
       "      <th>0</th>\n",
       "      <td>10520599</td>\n",
       "      <td>BLUE KNIGHTS MOTORCYCLE CLUB</td>\n",
       "      <td>T10</td>\n",
       "      <td>Independent</td>\n",
       "      <td>C1000</td>\n",
       "      <td>ProductDev</td>\n",
       "      <td>Association</td>\n",
       "      <td>1</td>\n",
       "      <td>0</td>\n",
       "      <td>N</td>\n",
       "      <td>5000</td>\n",
       "      <td>1</td>\n",
       "    </tr>\n",
       "    <tr>\n",
       "      <th>1</th>\n",
       "      <td>10531628</td>\n",
       "      <td>AMERICAN CHESAPEAKE CLUB CHARITABLE TR</td>\n",
       "      <td>T3</td>\n",
       "      <td>Independent</td>\n",
       "      <td>C2000</td>\n",
       "      <td>Preservation</td>\n",
       "      <td>Co-operative</td>\n",
       "      <td>1</td>\n",
       "      <td>1-9999</td>\n",
       "      <td>N</td>\n",
       "      <td>108590</td>\n",
       "      <td>1</td>\n",
       "    </tr>\n",
       "    <tr>\n",
       "      <th>2</th>\n",
       "      <td>10547893</td>\n",
       "      <td>ST CLOUD PROFESSIONAL FIREFIGHTERS</td>\n",
       "      <td>T5</td>\n",
       "      <td>CompanySponsored</td>\n",
       "      <td>C3000</td>\n",
       "      <td>ProductDev</td>\n",
       "      <td>Association</td>\n",
       "      <td>1</td>\n",
       "      <td>0</td>\n",
       "      <td>N</td>\n",
       "      <td>5000</td>\n",
       "      <td>0</td>\n",
       "    </tr>\n",
       "    <tr>\n",
       "      <th>3</th>\n",
       "      <td>10553066</td>\n",
       "      <td>SOUTHSIDE ATHLETIC ASSOCIATION</td>\n",
       "      <td>T3</td>\n",
       "      <td>CompanySponsored</td>\n",
       "      <td>C2000</td>\n",
       "      <td>Preservation</td>\n",
       "      <td>Trust</td>\n",
       "      <td>1</td>\n",
       "      <td>10000-24999</td>\n",
       "      <td>N</td>\n",
       "      <td>6692</td>\n",
       "      <td>1</td>\n",
       "    </tr>\n",
       "    <tr>\n",
       "      <th>4</th>\n",
       "      <td>10556103</td>\n",
       "      <td>GENETIC RESEARCH INSTITUTE OF THE DESERT</td>\n",
       "      <td>T3</td>\n",
       "      <td>Independent</td>\n",
       "      <td>C1000</td>\n",
       "      <td>Heathcare</td>\n",
       "      <td>Trust</td>\n",
       "      <td>1</td>\n",
       "      <td>100000-499999</td>\n",
       "      <td>N</td>\n",
       "      <td>142590</td>\n",
       "      <td>1</td>\n",
       "    </tr>\n",
       "  </tbody>\n",
       "</table>\n",
       "</div>"
      ],
      "text/plain": [
       "        EIN                                      NAME APPLICATION_TYPE  \\\n",
       "0  10520599              BLUE KNIGHTS MOTORCYCLE CLUB              T10   \n",
       "1  10531628    AMERICAN CHESAPEAKE CLUB CHARITABLE TR               T3   \n",
       "2  10547893        ST CLOUD PROFESSIONAL FIREFIGHTERS               T5   \n",
       "3  10553066            SOUTHSIDE ATHLETIC ASSOCIATION               T3   \n",
       "4  10556103  GENETIC RESEARCH INSTITUTE OF THE DESERT               T3   \n",
       "\n",
       "        AFFILIATION CLASSIFICATION      USE_CASE  ORGANIZATION  STATUS  \\\n",
       "0       Independent          C1000    ProductDev   Association       1   \n",
       "1       Independent          C2000  Preservation  Co-operative       1   \n",
       "2  CompanySponsored          C3000    ProductDev   Association       1   \n",
       "3  CompanySponsored          C2000  Preservation         Trust       1   \n",
       "4       Independent          C1000     Heathcare         Trust       1   \n",
       "\n",
       "      INCOME_AMT SPECIAL_CONSIDERATIONS  ASK_AMT  IS_SUCCESSFUL  \n",
       "0              0                      N     5000              1  \n",
       "1         1-9999                      N   108590              1  \n",
       "2              0                      N     5000              0  \n",
       "3    10000-24999                      N     6692              1  \n",
       "4  100000-499999                      N   142590              1  "
      ]
     },
     "execution_count": 1,
     "metadata": {},
     "output_type": "execute_result"
    }
   ],
   "source": [
    "# Import our dependencies\n",
    "from sklearn.model_selection import train_test_split\n",
    "from sklearn.preprocessing import StandardScaler\n",
    "import pandas as pd\n",
    "import tensorflow as tf\n",
    "\n",
    "#  Import and read the charity_data.csv.\n",
    "import pandas as pd \n",
    "application_df = pd.read_csv(\"https://static.bc-edx.com/data/dl-1-2/m21/lms/starter/charity_data.csv\")\n",
    "application_df.head()"
   ]
  },
  {
   "cell_type": "code",
   "execution_count": 2,
   "metadata": {},
   "outputs": [],
   "source": [
    "# Drop the non-beneficial ID columns, 'EIN' and 'NAME'.\n",
    "application_df = application_df.drop(['EIN', 'NAME'], axis=1)"
   ]
  },
  {
   "cell_type": "code",
   "execution_count": 3,
   "metadata": {},
   "outputs": [
    {
     "name": "stdout",
     "output_type": "stream",
     "text": [
      "APPLICATION_TYPE            17\n",
      "AFFILIATION                  6\n",
      "CLASSIFICATION              71\n",
      "USE_CASE                     5\n",
      "ORGANIZATION                 4\n",
      "STATUS                       2\n",
      "INCOME_AMT                   9\n",
      "SPECIAL_CONSIDERATIONS       2\n",
      "ASK_AMT                   8747\n",
      "IS_SUCCESSFUL                2\n",
      "dtype: int64\n"
     ]
    }
   ],
   "source": [
    "# Determine the number of unique values in each column.\n",
    "unique_counts = application_df.nunique()\n",
    "print(unique_counts)"
   ]
  },
  {
   "cell_type": "code",
   "execution_count": 4,
   "metadata": {},
   "outputs": [
    {
     "name": "stdout",
     "output_type": "stream",
     "text": [
      "T3     27037\n",
      "T4      1542\n",
      "T6      1216\n",
      "T5      1173\n",
      "T19     1065\n",
      "T8       737\n",
      "T7       725\n",
      "T10      528\n",
      "T9       156\n",
      "T13       66\n",
      "T12       27\n",
      "T2        16\n",
      "T25        3\n",
      "T14        3\n",
      "T29        2\n",
      "T15        2\n",
      "T17        1\n",
      "Name: APPLICATION_TYPE, dtype: int64\n"
     ]
    }
   ],
   "source": [
    "# Look at APPLICATION_TYPE value counts for binning\n",
    "application_type_counts = application_df['APPLICATION_TYPE'].value_counts()\n",
    "\n",
    "\n",
    "print(application_type_counts)"
   ]
  },
  {
   "cell_type": "code",
   "execution_count": 5,
   "metadata": {},
   "outputs": [
    {
     "data": {
      "text/plain": [
       "T3       27037\n",
       "T4        1542\n",
       "T6        1216\n",
       "T5        1173\n",
       "T19       1065\n",
       "T8         737\n",
       "T7         725\n",
       "T10        528\n",
       "Other      276\n",
       "Name: APPLICATION_TYPE, dtype: int64"
      ]
     },
     "execution_count": 5,
     "metadata": {},
     "output_type": "execute_result"
    }
   ],
   "source": [
    "# Choose a cutoff value and create a list of application types to be replaced\n",
    "# use the variable name `application_types_to_replace`\n",
    "cutoff_value = 500\n",
    "\n",
    "\n",
    "application_types_to_replace = application_type_counts[application_type_counts < cutoff_value].index.tolist()\n",
    "\n",
    "\n",
    "# Replace in dataframe\n",
    "for app in application_types_to_replace:\n",
    "    application_df['APPLICATION_TYPE'] = application_df['APPLICATION_TYPE'].replace(app,\"Other\")\n",
    "\n",
    "# Check to make sure binning was successful\n",
    "application_df['APPLICATION_TYPE'].value_counts()"
   ]
  },
  {
   "cell_type": "code",
   "execution_count": 6,
   "metadata": {},
   "outputs": [
    {
     "name": "stdout",
     "output_type": "stream",
     "text": [
      "C1000    17326\n",
      "C2000     6074\n",
      "C1200     4837\n",
      "C3000     1918\n",
      "C2100     1883\n",
      "         ...  \n",
      "C4120        1\n",
      "C8210        1\n",
      "C2561        1\n",
      "C4500        1\n",
      "C2150        1\n",
      "Name: CLASSIFICATION, Length: 71, dtype: int64\n"
     ]
    }
   ],
   "source": [
    "# Look at CLASSIFICATION value counts for binning\n",
    "classification_counts = application_df['CLASSIFICATION'].value_counts()\n",
    "\n",
    "# Display the result\n",
    "print(classification_counts)"
   ]
  },
  {
   "cell_type": "code",
   "execution_count": 7,
   "metadata": {},
   "outputs": [
    {
     "name": "stdout",
     "output_type": "stream",
     "text": [
      "C1000    17326\n",
      "C2000     6074\n",
      "C1200     4837\n",
      "C3000     1918\n",
      "C2100     1883\n",
      "C7000      777\n",
      "C1700      287\n",
      "C4000      194\n",
      "C5000      116\n",
      "C1270      114\n",
      "C2700      104\n",
      "C2800       95\n",
      "C7100       75\n",
      "C1300       58\n",
      "C1280       50\n",
      "C1230       36\n",
      "C1400       34\n",
      "C7200       32\n",
      "C2300       32\n",
      "C1240       30\n",
      "C8000       20\n",
      "C7120       18\n",
      "C1500       16\n",
      "C1800       15\n",
      "C6000       15\n",
      "C1250       14\n",
      "C8200       11\n",
      "C1238       10\n",
      "C1278       10\n",
      "C1235        9\n",
      "C1237        9\n",
      "C7210        7\n",
      "C2400        6\n",
      "C1720        6\n",
      "C4100        6\n",
      "C1257        5\n",
      "C1600        5\n",
      "C1260        3\n",
      "C2710        3\n",
      "C0           3\n",
      "C3200        2\n",
      "C1234        2\n",
      "C1246        2\n",
      "C1267        2\n",
      "C1256        2\n",
      "Name: CLASSIFICATION, dtype: int64\n"
     ]
    }
   ],
   "source": [
    "# You may find it helpful to look at CLASSIFICATION value counts >1\n",
    "classification_counts_greater_than_1 = classification_counts[classification_counts > 1]\n",
    "\n",
    "# Display the result\n",
    "print(classification_counts_greater_than_1)"
   ]
  },
  {
   "cell_type": "code",
   "execution_count": 8,
   "metadata": {},
   "outputs": [
    {
     "data": {
      "text/plain": [
       "C1000    17326\n",
       "C2000     6074\n",
       "C1200     4837\n",
       "C3000     1918\n",
       "C2100     1883\n",
       "C7000      777\n",
       "Other      669\n",
       "C1700      287\n",
       "C4000      194\n",
       "C5000      116\n",
       "C1270      114\n",
       "C2700      104\n",
       "Name: CLASSIFICATION, dtype: int64"
      ]
     },
     "execution_count": 8,
     "metadata": {},
     "output_type": "execute_result"
    }
   ],
   "source": [
    "# Choose a cutoff value and create a list of classifications to be replaced\n",
    "# use the variable name `classifications_to_replace`\n",
    "cutoff_value_class = 100\n",
    "\n",
    "\n",
    "classifications_to_replace = classification_counts[classification_counts < cutoff_value_class].index.tolist()\n",
    "\n",
    "\n",
    "\n",
    "# Replace in dataframe\n",
    "for cls in classifications_to_replace:\n",
    "    application_df['CLASSIFICATION'] = application_df['CLASSIFICATION'].replace(cls,\"Other\")\n",
    "    \n",
    "# Check to make sure binning was successful\n",
    "application_df['CLASSIFICATION'].value_counts()"
   ]
  },
  {
   "cell_type": "code",
   "execution_count": 9,
   "metadata": {},
   "outputs": [
    {
     "name": "stdout",
     "output_type": "stream",
     "text": [
      "   STATUS  ASK_AMT  IS_SUCCESSFUL  APPLICATION_TYPE_Other  \\\n",
      "0       1     5000              1                       0   \n",
      "1       1   108590              1                       0   \n",
      "2       1     5000              0                       0   \n",
      "3       1     6692              1                       0   \n",
      "4       1   142590              1                       0   \n",
      "\n",
      "   APPLICATION_TYPE_T10  APPLICATION_TYPE_T19  APPLICATION_TYPE_T3  \\\n",
      "0                     1                     0                    0   \n",
      "1                     0                     0                    1   \n",
      "2                     0                     0                    0   \n",
      "3                     0                     0                    1   \n",
      "4                     0                     0                    1   \n",
      "\n",
      "   APPLICATION_TYPE_T4  APPLICATION_TYPE_T5  APPLICATION_TYPE_T6  ...  \\\n",
      "0                    0                    0                    0  ...   \n",
      "1                    0                    0                    0  ...   \n",
      "2                    0                    1                    0  ...   \n",
      "3                    0                    0                    0  ...   \n",
      "4                    0                    0                    0  ...   \n",
      "\n",
      "   SPECIAL_CONSIDERATIONS_Y  INCOME_AMT_0  INCOME_AMT_1-9999  \\\n",
      "0                         0             1                  0   \n",
      "1                         0             0                  1   \n",
      "2                         0             1                  0   \n",
      "3                         0             0                  0   \n",
      "4                         0             0                  0   \n",
      "\n",
      "   INCOME_AMT_10000-24999  INCOME_AMT_100000-499999  INCOME_AMT_10M-50M  \\\n",
      "0                       0                         0                   0   \n",
      "1                       0                         0                   0   \n",
      "2                       0                         0                   0   \n",
      "3                       1                         0                   0   \n",
      "4                       0                         1                   0   \n",
      "\n",
      "   INCOME_AMT_1M-5M  INCOME_AMT_25000-99999  INCOME_AMT_50M+  \\\n",
      "0                 0                       0                0   \n",
      "1                 0                       0                0   \n",
      "2                 0                       0                0   \n",
      "3                 0                       0                0   \n",
      "4                 0                       0                0   \n",
      "\n",
      "   INCOME_AMT_5M-10M  \n",
      "0                  0  \n",
      "1                  0  \n",
      "2                  0  \n",
      "3                  0  \n",
      "4                  0  \n",
      "\n",
      "[5 rows x 50 columns]\n"
     ]
    }
   ],
   "source": [
    "# Convert categorical data to numeric with `pd.get_dummies`\n",
    "application_df_encoded = pd.get_dummies(application_df, columns=['APPLICATION_TYPE', 'CLASSIFICATION', 'AFFILIATION', 'USE_CASE', 'ORGANIZATION', 'SPECIAL_CONSIDERATIONS', 'INCOME_AMT'])\n",
    "\n",
    "# Display the result\n",
    "print(application_df_encoded.head())"
   ]
  },
  {
   "cell_type": "code",
   "execution_count": 10,
   "metadata": {},
   "outputs": [
    {
     "name": "stdout",
     "output_type": "stream",
     "text": [
      "X_train shape: (25724, 49)\n",
      "X_test shape: (8575, 49)\n",
      "y_train shape: (25724,)\n",
      "y_test shape: (8575,)\n"
     ]
    }
   ],
   "source": [
    "# Features (X) and Target (y) arrays\n",
    "X = application_df_encoded.drop('IS_SUCCESSFUL', axis=1)\n",
    "y = application_df_encoded['IS_SUCCESSFUL']\n",
    "\n",
    "# Split the data into training and testing sets\n",
    "X_train, X_test, y_train, y_test = train_test_split(X, y, random_state=42, stratify=y)\n",
    "\n",
    "# Display the shape of the training and testing sets\n",
    "print(\"X_train shape:\", X_train.shape)\n",
    "print(\"X_test shape:\", X_test.shape)\n",
    "print(\"y_train shape:\", y_train.shape)\n",
    "print(\"y_test shape:\", y_test.shape)\n"
   ]
  },
  {
   "cell_type": "code",
   "execution_count": 11,
   "metadata": {},
   "outputs": [],
   "source": [
    "# Create a StandardScaler instance\n",
    "scaler = StandardScaler()\n",
    "\n",
    "# Fit the StandardScaler\n",
    "X_scaler = scaler.fit(X_train)\n",
    "\n",
    "# Scale the data\n",
    "X_train_scaled = X_scaler.transform(X_train)\n",
    "X_test_scaled = X_scaler.transform(X_test)"
   ]
  },
  {
   "cell_type": "markdown",
   "metadata": {},
   "source": [
    "## Compile, Train and Evaluate the Model"
   ]
  },
  {
   "cell_type": "code",
   "execution_count": 12,
   "metadata": {},
   "outputs": [
    {
     "name": "stdout",
     "output_type": "stream",
     "text": [
      "Model: \"sequential\"\n",
      "_________________________________________________________________\n",
      " Layer (type)                Output Shape              Param #   \n",
      "=================================================================\n",
      " dense (Dense)               (None, 80)                4000      \n",
      "                                                                 \n",
      " dense_1 (Dense)             (None, 30)                2430      \n",
      "                                                                 \n",
      " dense_2 (Dense)             (None, 1)                 31        \n",
      "                                                                 \n",
      "=================================================================\n",
      "Total params: 6461 (25.24 KB)\n",
      "Trainable params: 6461 (25.24 KB)\n",
      "Non-trainable params: 0 (0.00 Byte)\n",
      "_________________________________________________________________\n"
     ]
    }
   ],
   "source": [
    "# Define the model - deep neural net, i.e., the number of input features and hidden nodes for each layer.\n",
    "nn = tf.keras.models.Sequential()\n",
    "\n",
    "\n",
    "input_features = len(X_train.columns)\n",
    "\n",
    "# First hidden layer\n",
    "nn.add(tf.keras.layers.Dense(units=80, input_dim=input_features, activation='relu', kernel_initializer='he_normal'))\n",
    "\n",
    "# Second hidden layer\n",
    "nn.add(tf.keras.layers.Dense(units=30, activation='relu', kernel_initializer='he_normal'))\n",
    "\n",
    "# Output layer\n",
    "nn.add(tf.keras.layers.Dense(units=1, activation='sigmoid'))\n",
    "\n",
    "# Check the structure of the model\n",
    "nn.summary()"
   ]
  },
  {
   "cell_type": "code",
   "execution_count": 13,
   "metadata": {},
   "outputs": [],
   "source": [
    "# Compile the model\n",
    "nn.compile(loss='binary_crossentropy', optimizer='adam', metrics=['accuracy'])"
   ]
  },
  {
   "cell_type": "code",
   "execution_count": 14,
   "metadata": {},
   "outputs": [
    {
     "name": "stdout",
     "output_type": "stream",
     "text": [
      "Epoch 1/50\n",
      "804/804 - 1s - loss: 0.5713 - accuracy: 0.7217 - 996ms/epoch - 1ms/step\n",
      "Epoch 2/50\n",
      "804/804 - 1s - loss: 0.5528 - accuracy: 0.7315 - 527ms/epoch - 656us/step\n",
      "Epoch 3/50\n",
      "804/804 - 1s - loss: 0.5508 - accuracy: 0.7317 - 538ms/epoch - 670us/step\n",
      "Epoch 4/50\n",
      "804/804 - 1s - loss: 0.5477 - accuracy: 0.7338 - 546ms/epoch - 679us/step\n",
      "Epoch 5/50\n",
      "804/804 - 1s - loss: 0.5469 - accuracy: 0.7340 - 554ms/epoch - 688us/step\n",
      "Epoch 6/50\n",
      "804/804 - 1s - loss: 0.5456 - accuracy: 0.7336 - 542ms/epoch - 674us/step\n",
      "Epoch 7/50\n",
      "804/804 - 1s - loss: 0.5457 - accuracy: 0.7340 - 531ms/epoch - 660us/step\n",
      "Epoch 8/50\n",
      "804/804 - 1s - loss: 0.5440 - accuracy: 0.7349 - 557ms/epoch - 693us/step\n",
      "Epoch 9/50\n",
      "804/804 - 1s - loss: 0.5437 - accuracy: 0.7350 - 527ms/epoch - 655us/step\n",
      "Epoch 10/50\n",
      "804/804 - 1s - loss: 0.5427 - accuracy: 0.7351 - 538ms/epoch - 669us/step\n",
      "Epoch 11/50\n",
      "804/804 - 1s - loss: 0.5426 - accuracy: 0.7345 - 529ms/epoch - 658us/step\n",
      "Epoch 12/50\n",
      "804/804 - 1s - loss: 0.5422 - accuracy: 0.7351 - 525ms/epoch - 652us/step\n",
      "Epoch 13/50\n",
      "804/804 - 1s - loss: 0.5411 - accuracy: 0.7357 - 511ms/epoch - 635us/step\n",
      "Epoch 14/50\n",
      "804/804 - 1s - loss: 0.5416 - accuracy: 0.7360 - 518ms/epoch - 645us/step\n",
      "Epoch 15/50\n",
      "804/804 - 1s - loss: 0.5412 - accuracy: 0.7361 - 523ms/epoch - 651us/step\n",
      "Epoch 16/50\n",
      "804/804 - 1s - loss: 0.5407 - accuracy: 0.7371 - 520ms/epoch - 647us/step\n",
      "Epoch 17/50\n",
      "804/804 - 1s - loss: 0.5397 - accuracy: 0.7372 - 514ms/epoch - 639us/step\n",
      "Epoch 18/50\n",
      "804/804 - 1s - loss: 0.5393 - accuracy: 0.7387 - 540ms/epoch - 672us/step\n",
      "Epoch 19/50\n",
      "804/804 - 1s - loss: 0.5391 - accuracy: 0.7378 - 532ms/epoch - 661us/step\n",
      "Epoch 20/50\n",
      "804/804 - 1s - loss: 0.5392 - accuracy: 0.7378 - 517ms/epoch - 644us/step\n",
      "Epoch 21/50\n",
      "804/804 - 1s - loss: 0.5391 - accuracy: 0.7375 - 521ms/epoch - 648us/step\n",
      "Epoch 22/50\n",
      "804/804 - 1s - loss: 0.5389 - accuracy: 0.7391 - 538ms/epoch - 669us/step\n",
      "Epoch 23/50\n",
      "804/804 - 1s - loss: 0.5381 - accuracy: 0.7387 - 537ms/epoch - 668us/step\n",
      "Epoch 24/50\n",
      "804/804 - 1s - loss: 0.5383 - accuracy: 0.7386 - 519ms/epoch - 646us/step\n",
      "Epoch 25/50\n",
      "804/804 - 1s - loss: 0.5380 - accuracy: 0.7386 - 530ms/epoch - 660us/step\n",
      "Epoch 26/50\n",
      "804/804 - 1s - loss: 0.5377 - accuracy: 0.7395 - 545ms/epoch - 677us/step\n",
      "Epoch 27/50\n",
      "804/804 - 1s - loss: 0.5372 - accuracy: 0.7392 - 511ms/epoch - 635us/step\n",
      "Epoch 28/50\n",
      "804/804 - 1s - loss: 0.5373 - accuracy: 0.7392 - 507ms/epoch - 630us/step\n",
      "Epoch 29/50\n",
      "804/804 - 1s - loss: 0.5364 - accuracy: 0.7398 - 521ms/epoch - 648us/step\n",
      "Epoch 30/50\n",
      "804/804 - 1s - loss: 0.5367 - accuracy: 0.7403 - 533ms/epoch - 663us/step\n",
      "Epoch 31/50\n",
      "804/804 - 1s - loss: 0.5370 - accuracy: 0.7401 - 523ms/epoch - 651us/step\n",
      "Epoch 32/50\n",
      "804/804 - 1s - loss: 0.5366 - accuracy: 0.7398 - 509ms/epoch - 633us/step\n",
      "Epoch 33/50\n",
      "804/804 - 1s - loss: 0.5361 - accuracy: 0.7407 - 525ms/epoch - 653us/step\n",
      "Epoch 34/50\n",
      "804/804 - 1s - loss: 0.5362 - accuracy: 0.7391 - 526ms/epoch - 655us/step\n",
      "Epoch 35/50\n",
      "804/804 - 1s - loss: 0.5361 - accuracy: 0.7407 - 524ms/epoch - 652us/step\n",
      "Epoch 36/50\n",
      "804/804 - 1s - loss: 0.5355 - accuracy: 0.7405 - 518ms/epoch - 644us/step\n",
      "Epoch 37/50\n",
      "804/804 - 1s - loss: 0.5355 - accuracy: 0.7402 - 530ms/epoch - 659us/step\n",
      "Epoch 38/50\n",
      "804/804 - 1s - loss: 0.5353 - accuracy: 0.7400 - 534ms/epoch - 664us/step\n",
      "Epoch 39/50\n",
      "804/804 - 1s - loss: 0.5349 - accuracy: 0.7402 - 535ms/epoch - 666us/step\n",
      "Epoch 40/50\n",
      "804/804 - 1s - loss: 0.5354 - accuracy: 0.7401 - 531ms/epoch - 660us/step\n",
      "Epoch 41/50\n",
      "804/804 - 1s - loss: 0.5351 - accuracy: 0.7397 - 540ms/epoch - 671us/step\n",
      "Epoch 42/50\n",
      "804/804 - 1s - loss: 0.5352 - accuracy: 0.7392 - 534ms/epoch - 665us/step\n",
      "Epoch 43/50\n",
      "804/804 - 1s - loss: 0.5350 - accuracy: 0.7403 - 525ms/epoch - 653us/step\n",
      "Epoch 44/50\n",
      "804/804 - 1s - loss: 0.5346 - accuracy: 0.7406 - 528ms/epoch - 657us/step\n",
      "Epoch 45/50\n",
      "804/804 - 1s - loss: 0.5346 - accuracy: 0.7413 - 539ms/epoch - 671us/step\n",
      "Epoch 46/50\n",
      "804/804 - 1s - loss: 0.5346 - accuracy: 0.7416 - 538ms/epoch - 669us/step\n",
      "Epoch 47/50\n",
      "804/804 - 1s - loss: 0.5342 - accuracy: 0.7406 - 525ms/epoch - 653us/step\n",
      "Epoch 48/50\n",
      "804/804 - 1s - loss: 0.5343 - accuracy: 0.7399 - 525ms/epoch - 652us/step\n",
      "Epoch 49/50\n",
      "804/804 - 1s - loss: 0.5340 - accuracy: 0.7398 - 526ms/epoch - 655us/step\n",
      "Epoch 50/50\n",
      "804/804 - 1s - loss: 0.5339 - accuracy: 0.7409 - 521ms/epoch - 648us/step\n"
     ]
    }
   ],
   "source": [
    "# Train the model\n",
    "model_history = nn.fit(X_train_scaled, y_train, epochs=50, verbose=2)"
   ]
  },
  {
   "cell_type": "code",
   "execution_count": 15,
   "metadata": {},
   "outputs": [
    {
     "name": "stdout",
     "output_type": "stream",
     "text": [
      "268/268 - 0s - loss: 0.5566 - accuracy: 0.7248 - 224ms/epoch - 835us/step\n",
      "Loss: 0.5565693974494934, Accuracy: 0.724781334400177\n"
     ]
    }
   ],
   "source": [
    "# Evaluate the model using the test data\n",
    "model_loss, model_accuracy = nn.evaluate(X_test_scaled,y_test,verbose=2)\n",
    "print(f\"Loss: {model_loss}, Accuracy: {model_accuracy}\")"
   ]
  },
  {
   "cell_type": "code",
   "execution_count": 16,
   "metadata": {},
   "outputs": [
    {
     "name": "stderr",
     "output_type": "stream",
     "text": [
      "C:\\Users\\Noahb\\anaconda3\\envs\\dev\\lib\\site-packages\\keras\\src\\engine\\training.py:3079: UserWarning: You are saving your model as an HDF5 file via `model.save()`. This file format is considered legacy. We recommend using instead the native Keras format, e.g. `model.save('my_model.keras')`.\n",
      "  saving_api.save_model(\n"
     ]
    }
   ],
   "source": [
    "# Export our model to HDF5 file\n",
    "model_path = \"C:/Users/Noahb/OneDrive/Desktop/class/homework/deep-learning-challenge/deep-learning-challenge_model.h5\"\n",
    "\n",
    "# Save the model to an HDF5 file\n",
    "nn.save('AlphabetSoupCharity.h5')"
   ]
  },
  {
   "cell_type": "code",
   "execution_count": null,
   "metadata": {},
   "outputs": [],
   "source": []
  }
 ],
 "metadata": {
  "kernelspec": {
   "display_name": "Python 3 (ipykernel)",
   "language": "python",
   "name": "python3"
  },
  "language_info": {
   "codemirror_mode": {
    "name": "ipython",
    "version": 3
   },
   "file_extension": ".py",
   "mimetype": "text/x-python",
   "name": "python",
   "nbconvert_exporter": "python",
   "pygments_lexer": "ipython3",
   "version": "3.10.12"
  },
  "vscode": {
   "interpreter": {
    "hash": "31f2aee4e71d21fbe5cf8b01ff0e069b9275f58929596ceb00d14d90e3e16cd6"
   }
  }
 },
 "nbformat": 4,
 "nbformat_minor": 4
}
