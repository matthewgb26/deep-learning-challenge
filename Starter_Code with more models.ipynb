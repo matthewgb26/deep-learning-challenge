{
 "cells": [
  {
   "cell_type": "markdown",
   "metadata": {},
   "source": [
    "## Preprocessing"
   ]
  },
  {
   "cell_type": "code",
   "execution_count": 14,
   "metadata": {},
   "outputs": [
    {
     "data": {
      "text/html": [
       "<div>\n",
       "<style scoped>\n",
       "    .dataframe tbody tr th:only-of-type {\n",
       "        vertical-align: middle;\n",
       "    }\n",
       "\n",
       "    .dataframe tbody tr th {\n",
       "        vertical-align: top;\n",
       "    }\n",
       "\n",
       "    .dataframe thead th {\n",
       "        text-align: right;\n",
       "    }\n",
       "</style>\n",
       "<table border=\"1\" class=\"dataframe\">\n",
       "  <thead>\n",
       "    <tr style=\"text-align: right;\">\n",
       "      <th></th>\n",
       "      <th>EIN</th>\n",
       "      <th>NAME</th>\n",
       "      <th>APPLICATION_TYPE</th>\n",
       "      <th>AFFILIATION</th>\n",
       "      <th>CLASSIFICATION</th>\n",
       "      <th>USE_CASE</th>\n",
       "      <th>ORGANIZATION</th>\n",
       "      <th>STATUS</th>\n",
       "      <th>INCOME_AMT</th>\n",
       "      <th>SPECIAL_CONSIDERATIONS</th>\n",
       "      <th>ASK_AMT</th>\n",
       "      <th>IS_SUCCESSFUL</th>\n",
       "    </tr>\n",
       "  </thead>\n",
       "  <tbody>\n",
       "    <tr>\n",
       "      <th>0</th>\n",
       "      <td>10520599</td>\n",
       "      <td>BLUE KNIGHTS MOTORCYCLE CLUB</td>\n",
       "      <td>T10</td>\n",
       "      <td>Independent</td>\n",
       "      <td>C1000</td>\n",
       "      <td>ProductDev</td>\n",
       "      <td>Association</td>\n",
       "      <td>1</td>\n",
       "      <td>0</td>\n",
       "      <td>N</td>\n",
       "      <td>5000</td>\n",
       "      <td>1</td>\n",
       "    </tr>\n",
       "    <tr>\n",
       "      <th>1</th>\n",
       "      <td>10531628</td>\n",
       "      <td>AMERICAN CHESAPEAKE CLUB CHARITABLE TR</td>\n",
       "      <td>T3</td>\n",
       "      <td>Independent</td>\n",
       "      <td>C2000</td>\n",
       "      <td>Preservation</td>\n",
       "      <td>Co-operative</td>\n",
       "      <td>1</td>\n",
       "      <td>1-9999</td>\n",
       "      <td>N</td>\n",
       "      <td>108590</td>\n",
       "      <td>1</td>\n",
       "    </tr>\n",
       "    <tr>\n",
       "      <th>2</th>\n",
       "      <td>10547893</td>\n",
       "      <td>ST CLOUD PROFESSIONAL FIREFIGHTERS</td>\n",
       "      <td>T5</td>\n",
       "      <td>CompanySponsored</td>\n",
       "      <td>C3000</td>\n",
       "      <td>ProductDev</td>\n",
       "      <td>Association</td>\n",
       "      <td>1</td>\n",
       "      <td>0</td>\n",
       "      <td>N</td>\n",
       "      <td>5000</td>\n",
       "      <td>0</td>\n",
       "    </tr>\n",
       "    <tr>\n",
       "      <th>3</th>\n",
       "      <td>10553066</td>\n",
       "      <td>SOUTHSIDE ATHLETIC ASSOCIATION</td>\n",
       "      <td>T3</td>\n",
       "      <td>CompanySponsored</td>\n",
       "      <td>C2000</td>\n",
       "      <td>Preservation</td>\n",
       "      <td>Trust</td>\n",
       "      <td>1</td>\n",
       "      <td>10000-24999</td>\n",
       "      <td>N</td>\n",
       "      <td>6692</td>\n",
       "      <td>1</td>\n",
       "    </tr>\n",
       "    <tr>\n",
       "      <th>4</th>\n",
       "      <td>10556103</td>\n",
       "      <td>GENETIC RESEARCH INSTITUTE OF THE DESERT</td>\n",
       "      <td>T3</td>\n",
       "      <td>Independent</td>\n",
       "      <td>C1000</td>\n",
       "      <td>Heathcare</td>\n",
       "      <td>Trust</td>\n",
       "      <td>1</td>\n",
       "      <td>100000-499999</td>\n",
       "      <td>N</td>\n",
       "      <td>142590</td>\n",
       "      <td>1</td>\n",
       "    </tr>\n",
       "  </tbody>\n",
       "</table>\n",
       "</div>"
      ],
      "text/plain": [
       "        EIN                                      NAME APPLICATION_TYPE  \\\n",
       "0  10520599              BLUE KNIGHTS MOTORCYCLE CLUB              T10   \n",
       "1  10531628    AMERICAN CHESAPEAKE CLUB CHARITABLE TR               T3   \n",
       "2  10547893        ST CLOUD PROFESSIONAL FIREFIGHTERS               T5   \n",
       "3  10553066            SOUTHSIDE ATHLETIC ASSOCIATION               T3   \n",
       "4  10556103  GENETIC RESEARCH INSTITUTE OF THE DESERT               T3   \n",
       "\n",
       "        AFFILIATION CLASSIFICATION      USE_CASE  ORGANIZATION  STATUS  \\\n",
       "0       Independent          C1000    ProductDev   Association       1   \n",
       "1       Independent          C2000  Preservation  Co-operative       1   \n",
       "2  CompanySponsored          C3000    ProductDev   Association       1   \n",
       "3  CompanySponsored          C2000  Preservation         Trust       1   \n",
       "4       Independent          C1000     Heathcare         Trust       1   \n",
       "\n",
       "      INCOME_AMT SPECIAL_CONSIDERATIONS  ASK_AMT  IS_SUCCESSFUL  \n",
       "0              0                      N     5000              1  \n",
       "1         1-9999                      N   108590              1  \n",
       "2              0                      N     5000              0  \n",
       "3    10000-24999                      N     6692              1  \n",
       "4  100000-499999                      N   142590              1  "
      ]
     },
     "execution_count": 14,
     "metadata": {},
     "output_type": "execute_result"
    }
   ],
   "source": [
    "# Import the necessary libraries\n",
    "from sklearn.model_selection import train_test_split\n",
    "from sklearn.preprocessing import StandardScaler\n",
    "import pandas as pd\n",
    "import tensorflow as tf\n",
    "from tensorflow.keras.models import Sequential\n",
    "from tensorflow.keras.layers import Dense, Embedding, LSTM, Conv1D, MaxPooling1D, Flatten, Attention\n",
    "\n",
    "#  Import and read the charity_data.csv.\n",
    "import pandas as pd \n",
    "application_df = pd.read_csv(\"https://static.bc-edx.com/data/dl-1-2/m21/lms/starter/charity_data.csv\")\n",
    "application_df.head()"
   ]
  },
  {
   "cell_type": "code",
   "execution_count": 2,
   "metadata": {},
   "outputs": [],
   "source": [
    "# Drop the non-beneficial ID columns, 'EIN' and 'NAME'.\n",
    "application_df = application_df.drop(['EIN', 'NAME'], axis=1)"
   ]
  },
  {
   "cell_type": "code",
   "execution_count": 3,
   "metadata": {},
   "outputs": [
    {
     "name": "stdout",
     "output_type": "stream",
     "text": [
      "APPLICATION_TYPE            17\n",
      "AFFILIATION                  6\n",
      "CLASSIFICATION              71\n",
      "USE_CASE                     5\n",
      "ORGANIZATION                 4\n",
      "STATUS                       2\n",
      "INCOME_AMT                   9\n",
      "SPECIAL_CONSIDERATIONS       2\n",
      "ASK_AMT                   8747\n",
      "IS_SUCCESSFUL                2\n",
      "dtype: int64\n"
     ]
    }
   ],
   "source": [
    "# Determine the number of unique values in each column.\n",
    "unique_counts = application_df.nunique()\n",
    "print(unique_counts)"
   ]
  },
  {
   "cell_type": "code",
   "execution_count": 4,
   "metadata": {},
   "outputs": [
    {
     "name": "stdout",
     "output_type": "stream",
     "text": [
      "T3     27037\n",
      "T4      1542\n",
      "T6      1216\n",
      "T5      1173\n",
      "T19     1065\n",
      "T8       737\n",
      "T7       725\n",
      "T10      528\n",
      "T9       156\n",
      "T13       66\n",
      "T12       27\n",
      "T2        16\n",
      "T25        3\n",
      "T14        3\n",
      "T29        2\n",
      "T15        2\n",
      "T17        1\n",
      "Name: APPLICATION_TYPE, dtype: int64\n"
     ]
    }
   ],
   "source": [
    "# Look at APPLICATION_TYPE value counts for binning\n",
    "application_type_counts = application_df['APPLICATION_TYPE'].value_counts()\n",
    "\n",
    "\n",
    "print(application_type_counts)"
   ]
  },
  {
   "cell_type": "code",
   "execution_count": 5,
   "metadata": {},
   "outputs": [
    {
     "data": {
      "text/plain": [
       "T3       27037\n",
       "T4        1542\n",
       "T6        1216\n",
       "T5        1173\n",
       "T19       1065\n",
       "T8         737\n",
       "T7         725\n",
       "T10        528\n",
       "Other      276\n",
       "Name: APPLICATION_TYPE, dtype: int64"
      ]
     },
     "execution_count": 5,
     "metadata": {},
     "output_type": "execute_result"
    }
   ],
   "source": [
    "# Choose a cutoff value and create a list of application types to be replaced\n",
    "# use the variable name `application_types_to_replace`\n",
    "cutoff_value = 500\n",
    "\n",
    "\n",
    "application_types_to_replace = application_type_counts[application_type_counts < cutoff_value].index.tolist()\n",
    "\n",
    "\n",
    "# Replace in dataframe\n",
    "for app in application_types_to_replace:\n",
    "    application_df['APPLICATION_TYPE'] = application_df['APPLICATION_TYPE'].replace(app,\"Other\")\n",
    "\n",
    "# Check to make sure binning was successful\n",
    "application_df['APPLICATION_TYPE'].value_counts()"
   ]
  },
  {
   "cell_type": "code",
   "execution_count": 6,
   "metadata": {},
   "outputs": [
    {
     "name": "stdout",
     "output_type": "stream",
     "text": [
      "C1000    17326\n",
      "C2000     6074\n",
      "C1200     4837\n",
      "C3000     1918\n",
      "C2100     1883\n",
      "         ...  \n",
      "C4120        1\n",
      "C8210        1\n",
      "C2561        1\n",
      "C4500        1\n",
      "C2150        1\n",
      "Name: CLASSIFICATION, Length: 71, dtype: int64\n"
     ]
    }
   ],
   "source": [
    "# Look at CLASSIFICATION value counts for binning\n",
    "classification_counts = application_df['CLASSIFICATION'].value_counts()\n",
    "\n",
    "# Display the result\n",
    "print(classification_counts)"
   ]
  },
  {
   "cell_type": "code",
   "execution_count": 7,
   "metadata": {},
   "outputs": [
    {
     "name": "stdout",
     "output_type": "stream",
     "text": [
      "C1000    17326\n",
      "C2000     6074\n",
      "C1200     4837\n",
      "C3000     1918\n",
      "C2100     1883\n",
      "C7000      777\n",
      "C1700      287\n",
      "C4000      194\n",
      "C5000      116\n",
      "C1270      114\n",
      "C2700      104\n",
      "C2800       95\n",
      "C7100       75\n",
      "C1300       58\n",
      "C1280       50\n",
      "C1230       36\n",
      "C1400       34\n",
      "C7200       32\n",
      "C2300       32\n",
      "C1240       30\n",
      "C8000       20\n",
      "C7120       18\n",
      "C1500       16\n",
      "C1800       15\n",
      "C6000       15\n",
      "C1250       14\n",
      "C8200       11\n",
      "C1238       10\n",
      "C1278       10\n",
      "C1235        9\n",
      "C1237        9\n",
      "C7210        7\n",
      "C2400        6\n",
      "C1720        6\n",
      "C4100        6\n",
      "C1257        5\n",
      "C1600        5\n",
      "C1260        3\n",
      "C2710        3\n",
      "C0           3\n",
      "C3200        2\n",
      "C1234        2\n",
      "C1246        2\n",
      "C1267        2\n",
      "C1256        2\n",
      "Name: CLASSIFICATION, dtype: int64\n"
     ]
    }
   ],
   "source": [
    "# You may find it helpful to look at CLASSIFICATION value counts >1\n",
    "classification_counts_greater_than_1 = classification_counts[classification_counts > 1]\n",
    "\n",
    "# Display the result\n",
    "print(classification_counts_greater_than_1)"
   ]
  },
  {
   "cell_type": "code",
   "execution_count": 8,
   "metadata": {},
   "outputs": [
    {
     "data": {
      "text/plain": [
       "C1000    17326\n",
       "C2000     6074\n",
       "C1200     4837\n",
       "C3000     1918\n",
       "C2100     1883\n",
       "C7000      777\n",
       "Other      669\n",
       "C1700      287\n",
       "C4000      194\n",
       "C5000      116\n",
       "C1270      114\n",
       "C2700      104\n",
       "Name: CLASSIFICATION, dtype: int64"
      ]
     },
     "execution_count": 8,
     "metadata": {},
     "output_type": "execute_result"
    }
   ],
   "source": [
    "# Choose a cutoff value and create a list of classifications to be replaced\n",
    "# use the variable name `classifications_to_replace`\n",
    "cutoff_value_class = 100\n",
    "\n",
    "\n",
    "classifications_to_replace = classification_counts[classification_counts < cutoff_value_class].index.tolist()\n",
    "\n",
    "\n",
    "\n",
    "# Replace in dataframe\n",
    "for cls in classifications_to_replace:\n",
    "    application_df['CLASSIFICATION'] = application_df['CLASSIFICATION'].replace(cls,\"Other\")\n",
    "    \n",
    "# Check to make sure binning was successful\n",
    "application_df['CLASSIFICATION'].value_counts()"
   ]
  },
  {
   "cell_type": "code",
   "execution_count": 10,
   "metadata": {},
   "outputs": [
    {
     "name": "stdout",
     "output_type": "stream",
     "text": [
      "   STATUS  ASK_AMT  IS_SUCCESSFUL  APPLICATION_TYPE_Other  \\\n",
      "0       1     5000              1                       0   \n",
      "1       1   108590              1                       0   \n",
      "2       1     5000              0                       0   \n",
      "3       1     6692              1                       0   \n",
      "4       1   142590              1                       0   \n",
      "\n",
      "   APPLICATION_TYPE_T10  APPLICATION_TYPE_T19  APPLICATION_TYPE_T3  \\\n",
      "0                     1                     0                    0   \n",
      "1                     0                     0                    1   \n",
      "2                     0                     0                    0   \n",
      "3                     0                     0                    1   \n",
      "4                     0                     0                    1   \n",
      "\n",
      "   APPLICATION_TYPE_T4  APPLICATION_TYPE_T5  APPLICATION_TYPE_T6  ...  \\\n",
      "0                    0                    0                    0  ...   \n",
      "1                    0                    0                    0  ...   \n",
      "2                    0                    1                    0  ...   \n",
      "3                    0                    0                    0  ...   \n",
      "4                    0                    0                    0  ...   \n",
      "\n",
      "   SPECIAL_CONSIDERATIONS_Y  INCOME_AMT_0  INCOME_AMT_1-9999  \\\n",
      "0                         0             1                  0   \n",
      "1                         0             0                  1   \n",
      "2                         0             1                  0   \n",
      "3                         0             0                  0   \n",
      "4                         0             0                  0   \n",
      "\n",
      "   INCOME_AMT_10000-24999  INCOME_AMT_100000-499999  INCOME_AMT_10M-50M  \\\n",
      "0                       0                         0                   0   \n",
      "1                       0                         0                   0   \n",
      "2                       0                         0                   0   \n",
      "3                       1                         0                   0   \n",
      "4                       0                         1                   0   \n",
      "\n",
      "   INCOME_AMT_1M-5M  INCOME_AMT_25000-99999  INCOME_AMT_50M+  \\\n",
      "0                 0                       0                0   \n",
      "1                 0                       0                0   \n",
      "2                 0                       0                0   \n",
      "3                 0                       0                0   \n",
      "4                 0                       0                0   \n",
      "\n",
      "   INCOME_AMT_5M-10M  \n",
      "0                  0  \n",
      "1                  0  \n",
      "2                  0  \n",
      "3                  0  \n",
      "4                  0  \n",
      "\n",
      "[5 rows x 50 columns]\n"
     ]
    }
   ],
   "source": [
    "# Convert categorical data to numeric with `pd.get_dummies`\n",
    "application_df_encoded = pd.get_dummies(application_df, columns=['APPLICATION_TYPE', 'CLASSIFICATION', 'AFFILIATION', 'USE_CASE', 'ORGANIZATION', 'SPECIAL_CONSIDERATIONS', 'INCOME_AMT'])\n",
    "\n",
    "# Display the result\n",
    "print(application_df_encoded.head())"
   ]
  },
  {
   "cell_type": "code",
   "execution_count": 11,
   "metadata": {},
   "outputs": [
    {
     "name": "stdout",
     "output_type": "stream",
     "text": [
      "X_train shape: (25724, 49)\n",
      "X_test shape: (8575, 49)\n",
      "y_train shape: (25724,)\n",
      "y_test shape: (8575,)\n"
     ]
    }
   ],
   "source": [
    "# Features (X) and Target (y) arrays\n",
    "X = application_df_encoded.drop('IS_SUCCESSFUL', axis=1)\n",
    "y = application_df_encoded['IS_SUCCESSFUL']\n",
    "\n",
    "# Split the data into training and testing sets\n",
    "X_train, X_test, y_train, y_test = train_test_split(X, y, random_state=42, stratify=y)\n",
    "\n",
    "# Display the shape of the training and testing sets\n",
    "print(\"X_train shape:\", X_train.shape)\n",
    "print(\"X_test shape:\", X_test.shape)\n",
    "print(\"y_train shape:\", y_train.shape)\n",
    "print(\"y_test shape:\", y_test.shape)\n"
   ]
  },
  {
   "cell_type": "code",
   "execution_count": 12,
   "metadata": {},
   "outputs": [],
   "source": [
    "# Create a StandardScaler instance\n",
    "scaler = StandardScaler()\n",
    "\n",
    "# Fit the StandardScaler\n",
    "X_scaler = scaler.fit(X_train)\n",
    "\n",
    "# Scale the data\n",
    "X_train_scaled = X_scaler.transform(X_train)\n",
    "X_test_scaled = X_scaler.transform(X_test)"
   ]
  },
  {
   "cell_type": "markdown",
   "metadata": {},
   "source": [
    "## Compile, Train and Evaluate the Model"
   ]
  },
  {
   "cell_type": "code",
   "execution_count": null,
   "metadata": {},
   "outputs": [],
   "source": [
    "# Define the model - deep neural net, i.e., the number of input features and hidden nodes for each layer.\n",
    "nn = tf.keras.models.Sequential()\n",
    "\n",
    "\n",
    "input_features = len(X_train.columns)\n",
    "\n",
    "# First hidden layer\n",
    "nn.add(tf.keras.layers.Dense(units=80, input_dim=input_features, activation='relu', kernel_initializer='he_normal'))\n",
    "\n",
    "# Second hidden layer\n",
    "nn.add(tf.keras.layers.Dense(units=30, activation='relu', kernel_initializer='he_normal'))\n",
    "\n",
    "# Output layer\n",
    "nn.add(tf.keras.layers.Dense(units=1, activation='sigmoid'))\n",
    "\n",
    "# Check the structure of the model\n",
    "nn.summary()"
   ]
  },
  {
   "cell_type": "code",
   "execution_count": null,
   "metadata": {},
   "outputs": [],
   "source": [
    "# Compile the model\n",
    "nn.compile(loss='binary_crossentropy', optimizer='adam', metrics=['accuracy'])"
   ]
  },
  {
   "cell_type": "code",
   "execution_count": null,
   "metadata": {},
   "outputs": [],
   "source": [
    "# Train the model\n",
    "model_history = nn.fit(X_train_scaled, y_train, epochs=50, verbose=2)"
   ]
  },
  {
   "cell_type": "code",
   "execution_count": null,
   "metadata": {},
   "outputs": [],
   "source": [
    "# Evaluate the model using the test data\n",
    "model_loss, model_accuracy = nn.evaluate(X_test_scaled,y_test,verbose=2)\n",
    "print(f\"Loss: {model_loss}, Accuracy: {model_accuracy}\")"
   ]
  },
  {
   "cell_type": "code",
   "execution_count": 15,
   "metadata": {},
   "outputs": [
    {
     "name": "stdout",
     "output_type": "stream",
     "text": [
      "Model: \"sequential_1\"\n",
      "_________________________________________________________________\n",
      " Layer (type)                Output Shape              Param #   \n",
      "=================================================================\n",
      " conv1d (Conv1D)             (None, 47, 64)            256       \n",
      "                                                                 \n",
      " max_pooling1d (MaxPooling1  (None, 23, 64)            0         \n",
      " D)                                                              \n",
      "                                                                 \n",
      " flatten (Flatten)           (None, 1472)              0         \n",
      "                                                                 \n",
      " dense (Dense)               (None, 64)                94272     \n",
      "                                                                 \n",
      " dense_1 (Dense)             (None, 1)                 65        \n",
      "                                                                 \n",
      "=================================================================\n",
      "Total params: 94593 (369.50 KB)\n",
      "Trainable params: 94593 (369.50 KB)\n",
      "Non-trainable params: 0 (0.00 Byte)\n",
      "_________________________________________________________________\n"
     ]
    }
   ],
   "source": [
    "# Define the model - deep neural net, i.e., the number of input features and hidden nodes for each layer.\n",
    "cnn_model = Sequential()\n",
    "cnn_model.add(Conv1D(filters=64, kernel_size=3, activation='relu', input_shape=(X_train_scaled.shape[1], 1)))\n",
    "cnn_model.add(MaxPooling1D(pool_size=2))\n",
    "cnn_model.add(Flatten())\n",
    "cnn_model.add(Dense(units=64, activation='relu'))\n",
    "cnn_model.add(Dense(units=1, activation='sigmoid'))\n",
    "\n",
    "# Check the structure of the model\n",
    "cnn_model.summary()"
   ]
  },
  {
   "cell_type": "code",
   "execution_count": 16,
   "metadata": {},
   "outputs": [],
   "source": [
    "# Compile the model\n",
    "cnn_model.compile(loss='binary_crossentropy', optimizer='adam', metrics=['accuracy'])"
   ]
  },
  {
   "cell_type": "code",
   "execution_count": 17,
   "metadata": {},
   "outputs": [
    {
     "name": "stdout",
     "output_type": "stream",
     "text": [
      "Epoch 1/50\n",
      "804/804 - 2s - loss: 0.5688 - accuracy: 0.7252 - 2s/epoch - 2ms/step\n",
      "Epoch 2/50\n",
      "804/804 - 1s - loss: 0.5558 - accuracy: 0.7290 - 1s/epoch - 1ms/step\n",
      "Epoch 3/50\n",
      "804/804 - 1s - loss: 0.5541 - accuracy: 0.7292 - 1s/epoch - 1ms/step\n",
      "Epoch 4/50\n",
      "804/804 - 1s - loss: 0.5524 - accuracy: 0.7291 - 1s/epoch - 1ms/step\n",
      "Epoch 5/50\n",
      "804/804 - 1s - loss: 0.5495 - accuracy: 0.7311 - 1s/epoch - 1ms/step\n",
      "Epoch 6/50\n",
      "804/804 - 1s - loss: 0.5495 - accuracy: 0.7314 - 1s/epoch - 1ms/step\n",
      "Epoch 7/50\n",
      "804/804 - 1s - loss: 0.5489 - accuracy: 0.7315 - 1s/epoch - 1ms/step\n",
      "Epoch 8/50\n",
      "804/804 - 1s - loss: 0.5469 - accuracy: 0.7334 - 1s/epoch - 1ms/step\n",
      "Epoch 9/50\n",
      "804/804 - 1s - loss: 0.5469 - accuracy: 0.7327 - 1s/epoch - 1ms/step\n",
      "Epoch 10/50\n",
      "804/804 - 1s - loss: 0.5459 - accuracy: 0.7336 - 1s/epoch - 1ms/step\n",
      "Epoch 11/50\n",
      "804/804 - 1s - loss: 0.5455 - accuracy: 0.7342 - 1s/epoch - 1ms/step\n",
      "Epoch 12/50\n",
      "804/804 - 1s - loss: 0.5454 - accuracy: 0.7336 - 1s/epoch - 1ms/step\n",
      "Epoch 13/50\n",
      "804/804 - 1s - loss: 0.5445 - accuracy: 0.7336 - 1s/epoch - 1ms/step\n",
      "Epoch 14/50\n",
      "804/804 - 1s - loss: 0.5449 - accuracy: 0.7356 - 1s/epoch - 1ms/step\n",
      "Epoch 15/50\n",
      "804/804 - 1s - loss: 0.5444 - accuracy: 0.7350 - 1s/epoch - 1ms/step\n",
      "Epoch 16/50\n",
      "804/804 - 1s - loss: 0.5436 - accuracy: 0.7336 - 1s/epoch - 1ms/step\n",
      "Epoch 17/50\n",
      "804/804 - 1s - loss: 0.5427 - accuracy: 0.7362 - 1s/epoch - 1ms/step\n",
      "Epoch 18/50\n",
      "804/804 - 1s - loss: 0.5427 - accuracy: 0.7349 - 1s/epoch - 1ms/step\n",
      "Epoch 19/50\n",
      "804/804 - 1s - loss: 0.5423 - accuracy: 0.7366 - 1s/epoch - 1ms/step\n",
      "Epoch 20/50\n",
      "804/804 - 1s - loss: 0.5423 - accuracy: 0.7352 - 1s/epoch - 1ms/step\n",
      "Epoch 21/50\n",
      "804/804 - 1s - loss: 0.5425 - accuracy: 0.7369 - 1s/epoch - 1ms/step\n",
      "Epoch 22/50\n",
      "804/804 - 1s - loss: 0.5415 - accuracy: 0.7363 - 1s/epoch - 1ms/step\n",
      "Epoch 23/50\n",
      "804/804 - 1s - loss: 0.5413 - accuracy: 0.7368 - 1s/epoch - 1ms/step\n",
      "Epoch 24/50\n",
      "804/804 - 1s - loss: 0.5410 - accuracy: 0.7359 - 1s/epoch - 1ms/step\n",
      "Epoch 25/50\n",
      "804/804 - 1s - loss: 0.5411 - accuracy: 0.7371 - 1s/epoch - 1ms/step\n",
      "Epoch 26/50\n",
      "804/804 - 1s - loss: 0.5407 - accuracy: 0.7369 - 1s/epoch - 1ms/step\n",
      "Epoch 27/50\n",
      "804/804 - 1s - loss: 0.5403 - accuracy: 0.7363 - 1s/epoch - 1ms/step\n",
      "Epoch 28/50\n",
      "804/804 - 1s - loss: 0.5407 - accuracy: 0.7359 - 1s/epoch - 1ms/step\n",
      "Epoch 29/50\n",
      "804/804 - 1s - loss: 0.5406 - accuracy: 0.7366 - 1s/epoch - 1ms/step\n",
      "Epoch 30/50\n",
      "804/804 - 1s - loss: 0.5398 - accuracy: 0.7373 - 1s/epoch - 1ms/step\n",
      "Epoch 31/50\n",
      "804/804 - 1s - loss: 0.5399 - accuracy: 0.7370 - 1s/epoch - 1ms/step\n",
      "Epoch 32/50\n",
      "804/804 - 1s - loss: 0.5396 - accuracy: 0.7370 - 1s/epoch - 1ms/step\n",
      "Epoch 33/50\n",
      "804/804 - 1s - loss: 0.5392 - accuracy: 0.7376 - 1s/epoch - 1ms/step\n",
      "Epoch 34/50\n",
      "804/804 - 1s - loss: 0.5402 - accuracy: 0.7383 - 1s/epoch - 1ms/step\n",
      "Epoch 35/50\n",
      "804/804 - 1s - loss: 0.5391 - accuracy: 0.7385 - 1s/epoch - 1ms/step\n",
      "Epoch 36/50\n",
      "804/804 - 1s - loss: 0.5395 - accuracy: 0.7379 - 1s/epoch - 1ms/step\n",
      "Epoch 37/50\n",
      "804/804 - 1s - loss: 0.5389 - accuracy: 0.7369 - 1s/epoch - 1ms/step\n",
      "Epoch 38/50\n",
      "804/804 - 1s - loss: 0.5384 - accuracy: 0.7383 - 1s/epoch - 1ms/step\n",
      "Epoch 39/50\n",
      "804/804 - 1s - loss: 0.5386 - accuracy: 0.7380 - 1s/epoch - 1ms/step\n",
      "Epoch 40/50\n",
      "804/804 - 1s - loss: 0.5385 - accuracy: 0.7374 - 1s/epoch - 1ms/step\n",
      "Epoch 41/50\n",
      "804/804 - 1s - loss: 0.5383 - accuracy: 0.7374 - 1s/epoch - 1ms/step\n",
      "Epoch 42/50\n",
      "804/804 - 1s - loss: 0.5385 - accuracy: 0.7383 - 1s/epoch - 1ms/step\n",
      "Epoch 43/50\n",
      "804/804 - 1s - loss: 0.5383 - accuracy: 0.7385 - 1s/epoch - 1ms/step\n",
      "Epoch 44/50\n",
      "804/804 - 1s - loss: 0.5378 - accuracy: 0.7394 - 1s/epoch - 1ms/step\n",
      "Epoch 45/50\n",
      "804/804 - 1s - loss: 0.5376 - accuracy: 0.7378 - 1s/epoch - 1ms/step\n",
      "Epoch 46/50\n",
      "804/804 - 1s - loss: 0.5381 - accuracy: 0.7380 - 1s/epoch - 1ms/step\n",
      "Epoch 47/50\n",
      "804/804 - 1s - loss: 0.5376 - accuracy: 0.7379 - 1s/epoch - 1ms/step\n",
      "Epoch 48/50\n",
      "804/804 - 1s - loss: 0.5378 - accuracy: 0.7381 - 1s/epoch - 1ms/step\n",
      "Epoch 49/50\n",
      "804/804 - 1s - loss: 0.5380 - accuracy: 0.7385 - 1s/epoch - 1ms/step\n",
      "Epoch 50/50\n",
      "804/804 - 1s - loss: 0.5376 - accuracy: 0.7384 - 1s/epoch - 1ms/step\n"
     ]
    }
   ],
   "source": [
    "# Train the model\n",
    "model_history = cnn_model.fit(X_train_scaled, y_train, epochs=50, verbose=2)"
   ]
  },
  {
   "cell_type": "code",
   "execution_count": 18,
   "metadata": {},
   "outputs": [
    {
     "name": "stdout",
     "output_type": "stream",
     "text": [
      "268/268 - 0s - loss: 0.5563 - accuracy: 0.7237 - 345ms/epoch - 1ms/step\n",
      "Loss: 0.5562822818756104, Accuracy: 0.7237317562103271\n"
     ]
    }
   ],
   "source": [
    "# Evaluate the model using the test data\n",
    "model_loss, model_accuracy = cnn_model.evaluate(X_test_scaled,y_test,verbose=2)\n",
    "print(f\"Loss: {model_loss}, Accuracy: {model_accuracy}\")"
   ]
  },
  {
   "cell_type": "code",
   "execution_count": 22,
   "metadata": {},
   "outputs": [
    {
     "name": "stdout",
     "output_type": "stream",
     "text": [
      "Model: \"sequential_3\"\n",
      "_________________________________________________________________\n",
      " Layer (type)                Output Shape              Param #   \n",
      "=================================================================\n",
      " lstm_1 (LSTM)               (None, 50)                10400     \n",
      "                                                                 \n",
      " dense_3 (Dense)             (None, 1)                 51        \n",
      "                                                                 \n",
      "=================================================================\n",
      "Total params: 10451 (40.82 KB)\n",
      "Trainable params: 10451 (40.82 KB)\n",
      "Non-trainable params: 0 (0.00 Byte)\n",
      "_________________________________________________________________\n"
     ]
    }
   ],
   "source": [
    "rnn_model = Sequential()\n",
    "rnn_model.add(LSTM(units=50, activation='relu', input_shape=(X_train_scaled.shape[1], 1)))\n",
    "rnn_model.add(Dense(units=1, activation='sigmoid'))\n",
    "\n",
    "rnn_model.summary()"
   ]
  },
  {
   "cell_type": "code",
   "execution_count": 23,
   "metadata": {},
   "outputs": [],
   "source": [
    "# Compile the model\n",
    "rnn_model.compile(loss='binary_crossentropy', optimizer='adam', metrics=['accuracy'])"
   ]
  },
  {
   "cell_type": "code",
   "execution_count": 24,
   "metadata": {},
   "outputs": [
    {
     "name": "stdout",
     "output_type": "stream",
     "text": [
      "Epoch 1/50\n",
      "804/804 - 6s - loss: 0.6714 - accuracy: 0.5811 - 6s/epoch - 7ms/step\n",
      "Epoch 2/50\n",
      "804/804 - 5s - loss: 0.6004 - accuracy: 0.7017 - 5s/epoch - 6ms/step\n",
      "Epoch 3/50\n",
      "804/804 - 5s - loss: 0.5806 - accuracy: 0.7198 - 5s/epoch - 6ms/step\n",
      "Epoch 4/50\n",
      "804/804 - 5s - loss: 0.5708 - accuracy: 0.7254 - 5s/epoch - 6ms/step\n",
      "Epoch 5/50\n",
      "804/804 - 5s - loss: 0.5692 - accuracy: 0.7237 - 5s/epoch - 6ms/step\n",
      "Epoch 6/50\n",
      "804/804 - 5s - loss: 0.5639 - accuracy: 0.7263 - 5s/epoch - 6ms/step\n",
      "Epoch 7/50\n",
      "804/804 - 5s - loss: 0.5631 - accuracy: 0.7266 - 5s/epoch - 6ms/step\n",
      "Epoch 8/50\n",
      "804/804 - 5s - loss: 0.5641 - accuracy: 0.7258 - 5s/epoch - 6ms/step\n",
      "Epoch 9/50\n",
      "804/804 - 5s - loss: 0.6434 - accuracy: 0.7290 - 5s/epoch - 7ms/step\n",
      "Epoch 10/50\n",
      "804/804 - 5s - loss: 0.5599 - accuracy: 0.7290 - 5s/epoch - 7ms/step\n",
      "Epoch 11/50\n",
      "804/804 - 5s - loss: 0.5576 - accuracy: 0.7297 - 5s/epoch - 7ms/step\n",
      "Epoch 12/50\n",
      "804/804 - 5s - loss: 0.5564 - accuracy: 0.7289 - 5s/epoch - 6ms/step\n",
      "Epoch 13/50\n",
      "804/804 - 5s - loss: 0.5559 - accuracy: 0.7301 - 5s/epoch - 6ms/step\n",
      "Epoch 14/50\n",
      "804/804 - 5s - loss: 0.5554 - accuracy: 0.7307 - 5s/epoch - 6ms/step\n",
      "Epoch 15/50\n",
      "804/804 - 5s - loss: 0.5539 - accuracy: 0.7309 - 5s/epoch - 6ms/step\n",
      "Epoch 16/50\n",
      "804/804 - 5s - loss: 0.6196 - accuracy: 0.7280 - 5s/epoch - 6ms/step\n",
      "Epoch 17/50\n",
      "804/804 - 5s - loss: 2053.4783 - accuracy: 0.6213 - 5s/epoch - 6ms/step\n",
      "Epoch 18/50\n",
      "804/804 - 5s - loss: 64172.0117 - accuracy: 0.4949 - 5s/epoch - 6ms/step\n",
      "Epoch 19/50\n",
      "804/804 - 5s - loss: 344.6583 - accuracy: 0.5147 - 5s/epoch - 6ms/step\n",
      "Epoch 20/50\n",
      "804/804 - 5s - loss: 47.2516 - accuracy: 0.5065 - 5s/epoch - 6ms/step\n",
      "Epoch 21/50\n",
      "804/804 - 5s - loss: 21.8192 - accuracy: 0.4982 - 5s/epoch - 6ms/step\n",
      "Epoch 22/50\n",
      "804/804 - 5s - loss: 1.8379 - accuracy: 0.5303 - 5s/epoch - 6ms/step\n",
      "Epoch 23/50\n",
      "804/804 - 5s - loss: 0.9787 - accuracy: 0.5142 - 5s/epoch - 6ms/step\n",
      "Epoch 24/50\n",
      "804/804 - 5s - loss: 0.9225 - accuracy: 0.5585 - 5s/epoch - 6ms/step\n",
      "Epoch 25/50\n",
      "804/804 - 5s - loss: 0.8356 - accuracy: 0.5495 - 5s/epoch - 6ms/step\n",
      "Epoch 26/50\n",
      "804/804 - 5s - loss: 0.7805 - accuracy: 0.5278 - 5s/epoch - 6ms/step\n",
      "Epoch 27/50\n",
      "804/804 - 5s - loss: 0.7625 - accuracy: 0.5184 - 5s/epoch - 6ms/step\n",
      "Epoch 28/50\n",
      "804/804 - 5s - loss: 0.7354 - accuracy: 0.5295 - 5s/epoch - 6ms/step\n",
      "Epoch 29/50\n",
      "804/804 - 5s - loss: 0.7220 - accuracy: 0.5292 - 5s/epoch - 6ms/step\n",
      "Epoch 30/50\n",
      "804/804 - 5s - loss: 0.7110 - accuracy: 0.5278 - 5s/epoch - 6ms/step\n",
      "Epoch 31/50\n",
      "804/804 - 5s - loss: 0.7000 - accuracy: 0.5423 - 5s/epoch - 6ms/step\n",
      "Epoch 32/50\n",
      "804/804 - 5s - loss: 0.6977 - accuracy: 0.5466 - 5s/epoch - 6ms/step\n",
      "Epoch 33/50\n",
      "804/804 - 5s - loss: 0.6913 - accuracy: 0.5580 - 5s/epoch - 7ms/step\n",
      "Epoch 34/50\n",
      "804/804 - 5s - loss: 0.6936 - accuracy: 0.5710 - 5s/epoch - 6ms/step\n",
      "Epoch 35/50\n",
      "804/804 - 5s - loss: 0.6777 - accuracy: 0.5750 - 5s/epoch - 7ms/step\n",
      "Epoch 36/50\n",
      "804/804 - 5s - loss: 1.2503 - accuracy: 0.6228 - 5s/epoch - 6ms/step\n",
      "Epoch 37/50\n",
      "804/804 - 5s - loss: 1.4947 - accuracy: 0.6283 - 5s/epoch - 6ms/step\n",
      "Epoch 38/50\n",
      "804/804 - 5s - loss: 0.6750 - accuracy: 0.6188 - 5s/epoch - 6ms/step\n",
      "Epoch 39/50\n",
      "804/804 - 5s - loss: 3.6750 - accuracy: 0.5881 - 5s/epoch - 6ms/step\n",
      "Epoch 40/50\n",
      "804/804 - 5s - loss: 2.2305 - accuracy: 0.6837 - 5s/epoch - 6ms/step\n",
      "Epoch 41/50\n",
      "804/804 - 5s - loss: 280.4112 - accuracy: 0.6771 - 5s/epoch - 6ms/step\n",
      "Epoch 42/50\n",
      "804/804 - 5s - loss: 0.5953 - accuracy: 0.7113 - 5s/epoch - 6ms/step\n",
      "Epoch 43/50\n",
      "804/804 - 5s - loss: 0.5950 - accuracy: 0.7036 - 5s/epoch - 6ms/step\n",
      "Epoch 44/50\n",
      "804/804 - 5s - loss: 0.5804 - accuracy: 0.7213 - 5s/epoch - 6ms/step\n",
      "Epoch 45/50\n",
      "804/804 - 5s - loss: 0.5781 - accuracy: 0.7214 - 5s/epoch - 6ms/step\n",
      "Epoch 46/50\n",
      "804/804 - 5s - loss: 0.5776 - accuracy: 0.7219 - 5s/epoch - 6ms/step\n",
      "Epoch 47/50\n",
      "804/804 - 5s - loss: 0.5767 - accuracy: 0.7229 - 5s/epoch - 6ms/step\n",
      "Epoch 48/50\n",
      "804/804 - 5s - loss: 0.5759 - accuracy: 0.7223 - 5s/epoch - 6ms/step\n",
      "Epoch 49/50\n",
      "804/804 - 5s - loss: 0.5777 - accuracy: 0.7237 - 5s/epoch - 6ms/step\n",
      "Epoch 50/50\n",
      "804/804 - 5s - loss: 0.5766 - accuracy: 0.7248 - 5s/epoch - 6ms/step\n"
     ]
    }
   ],
   "source": [
    "# Train the model\n",
    "model_history = rnn_model.fit(X_train_scaled, y_train, epochs=50, verbose=2)"
   ]
  },
  {
   "cell_type": "code",
   "execution_count": 25,
   "metadata": {},
   "outputs": [
    {
     "name": "stdout",
     "output_type": "stream",
     "text": [
      "268/268 - 0s - loss: 0.5593 - accuracy: 0.7236 - 292ms/epoch - 1ms/step\n",
      "Loss: 0.5592671036720276, Accuracy: 0.7236151695251465\n"
     ]
    }
   ],
   "source": [
    "# Evaluate the model using the test data\n",
    "model_loss, model_accuracy = cnn_model.evaluate(X_test_scaled,y_test,verbose=2)\n",
    "print(f\"Loss: {model_loss}, Accuracy: {model_accuracy}\")"
   ]
  },
  {
   "cell_type": "code",
   "execution_count": 26,
   "metadata": {},
   "outputs": [
    {
     "ename": "NameError",
     "evalue": "name 'nn' is not defined",
     "output_type": "error",
     "traceback": [
      "\u001b[1;31m---------------------------------------------------------------------------\u001b[0m",
      "\u001b[1;31mNameError\u001b[0m                                 Traceback (most recent call last)",
      "Cell \u001b[1;32mIn[26], line 5\u001b[0m\n\u001b[0;32m      2\u001b[0m model_path \u001b[38;5;241m=\u001b[39m \u001b[38;5;124m\"\u001b[39m\u001b[38;5;124mC:/Users/Noahb/OneDrive/Desktop/class/homework/deep-learning-challenge/deep-learning-challenge_model.h5\u001b[39m\u001b[38;5;124m\"\u001b[39m\n\u001b[0;32m      4\u001b[0m \u001b[38;5;66;03m# Save the model to an HDF5 file\u001b[39;00m\n\u001b[1;32m----> 5\u001b[0m \u001b[43mnn\u001b[49m\u001b[38;5;241m.\u001b[39msave(\u001b[38;5;124m'\u001b[39m\u001b[38;5;124mAlphabetSoupCharity_Optimization.h5\u001b[39m\u001b[38;5;124m'\u001b[39m)\n",
      "\u001b[1;31mNameError\u001b[0m: name 'nn' is not defined"
     ]
    }
   ],
   "source": [
    "# Export our model to HDF5 file\n",
    "model_path = \"C:/Users/Noahb/OneDrive/Desktop/class/homework/deep-learning-challenge/deep-learning-challenge_model.h5\"\n",
    "\n",
    "# Save the model to an HDF5 file\n",
    "nn.save('AlphabetSoupCharity_Optimization.h5')"
   ]
  },
  {
   "cell_type": "code",
   "execution_count": null,
   "metadata": {},
   "outputs": [],
   "source": []
  }
 ],
 "metadata": {
  "kernelspec": {
   "display_name": "Python 3 (ipykernel)",
   "language": "python",
   "name": "python3"
  },
  "language_info": {
   "codemirror_mode": {
    "name": "ipython",
    "version": 3
   },
   "file_extension": ".py",
   "mimetype": "text/x-python",
   "name": "python",
   "nbconvert_exporter": "python",
   "pygments_lexer": "ipython3",
   "version": "3.10.12"
  },
  "vscode": {
   "interpreter": {
    "hash": "31f2aee4e71d21fbe5cf8b01ff0e069b9275f58929596ceb00d14d90e3e16cd6"
   }
  }
 },
 "nbformat": 4,
 "nbformat_minor": 4
}
